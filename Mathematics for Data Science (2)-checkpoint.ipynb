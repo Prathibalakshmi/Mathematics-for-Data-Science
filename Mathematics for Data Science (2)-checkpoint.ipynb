{
 "cells": [
  {
   "cell_type": "code",
   "execution_count": 1,
   "id": "b77a85c0",
   "metadata": {},
   "outputs": [],
   "source": [
    "import numpy as np\n",
    "import matplotlib.pyplot as plt\n"
   ]
  },
  {
   "cell_type": "code",
   "execution_count": 68,
   "id": "1002cdbb",
   "metadata": {},
   "outputs": [
    {
     "name": "stdout",
     "output_type": "stream",
     "text": [
      "['setosa' 'versicolor' 'virginica']\n"
     ]
    }
   ],
   "source": [
    "from sklearn.datasets import load_iris\n",
    "data = load_iris()\n",
    "X, y = data.data, data.target\n",
    "feature_names = data.feature_names\n",
    "target_names = data.target_names\n",
    "print(target_names)"
   ]
  },
  {
   "cell_type": "code",
   "execution_count": 3,
   "id": "df38209e",
   "metadata": {},
   "outputs": [
    {
     "data": {
      "text/plain": [
       "array([[5.1, 3.5, 1.4, 0.2],\n",
       "       [4.9, 3. , 1.4, 0.2],\n",
       "       [4.7, 3.2, 1.3, 0.2],\n",
       "       [4.6, 3.1, 1.5, 0.2],\n",
       "       [5. , 3.6, 1.4, 0.2],\n",
       "       [5.4, 3.9, 1.7, 0.4],\n",
       "       [4.6, 3.4, 1.4, 0.3],\n",
       "       [5. , 3.4, 1.5, 0.2],\n",
       "       [4.4, 2.9, 1.4, 0.2],\n",
       "       [4.9, 3.1, 1.5, 0.1],\n",
       "       [5.4, 3.7, 1.5, 0.2],\n",
       "       [4.8, 3.4, 1.6, 0.2],\n",
       "       [4.8, 3. , 1.4, 0.1],\n",
       "       [4.3, 3. , 1.1, 0.1],\n",
       "       [5.8, 4. , 1.2, 0.2],\n",
       "       [5.7, 4.4, 1.5, 0.4],\n",
       "       [5.4, 3.9, 1.3, 0.4],\n",
       "       [5.1, 3.5, 1.4, 0.3],\n",
       "       [5.7, 3.8, 1.7, 0.3],\n",
       "       [5.1, 3.8, 1.5, 0.3],\n",
       "       [5.4, 3.4, 1.7, 0.2],\n",
       "       [5.1, 3.7, 1.5, 0.4],\n",
       "       [4.6, 3.6, 1. , 0.2],\n",
       "       [5.1, 3.3, 1.7, 0.5],\n",
       "       [4.8, 3.4, 1.9, 0.2],\n",
       "       [5. , 3. , 1.6, 0.2],\n",
       "       [5. , 3.4, 1.6, 0.4],\n",
       "       [5.2, 3.5, 1.5, 0.2],\n",
       "       [5.2, 3.4, 1.4, 0.2],\n",
       "       [4.7, 3.2, 1.6, 0.2],\n",
       "       [4.8, 3.1, 1.6, 0.2],\n",
       "       [5.4, 3.4, 1.5, 0.4],\n",
       "       [5.2, 4.1, 1.5, 0.1],\n",
       "       [5.5, 4.2, 1.4, 0.2],\n",
       "       [4.9, 3.1, 1.5, 0.2],\n",
       "       [5. , 3.2, 1.2, 0.2],\n",
       "       [5.5, 3.5, 1.3, 0.2],\n",
       "       [4.9, 3.6, 1.4, 0.1],\n",
       "       [4.4, 3. , 1.3, 0.2],\n",
       "       [5.1, 3.4, 1.5, 0.2],\n",
       "       [5. , 3.5, 1.3, 0.3],\n",
       "       [4.5, 2.3, 1.3, 0.3],\n",
       "       [4.4, 3.2, 1.3, 0.2],\n",
       "       [5. , 3.5, 1.6, 0.6],\n",
       "       [5.1, 3.8, 1.9, 0.4],\n",
       "       [4.8, 3. , 1.4, 0.3],\n",
       "       [5.1, 3.8, 1.6, 0.2],\n",
       "       [4.6, 3.2, 1.4, 0.2],\n",
       "       [5.3, 3.7, 1.5, 0.2],\n",
       "       [5. , 3.3, 1.4, 0.2],\n",
       "       [7. , 3.2, 4.7, 1.4],\n",
       "       [6.4, 3.2, 4.5, 1.5],\n",
       "       [6.9, 3.1, 4.9, 1.5],\n",
       "       [5.5, 2.3, 4. , 1.3],\n",
       "       [6.5, 2.8, 4.6, 1.5],\n",
       "       [5.7, 2.8, 4.5, 1.3],\n",
       "       [6.3, 3.3, 4.7, 1.6],\n",
       "       [4.9, 2.4, 3.3, 1. ],\n",
       "       [6.6, 2.9, 4.6, 1.3],\n",
       "       [5.2, 2.7, 3.9, 1.4],\n",
       "       [5. , 2. , 3.5, 1. ],\n",
       "       [5.9, 3. , 4.2, 1.5],\n",
       "       [6. , 2.2, 4. , 1. ],\n",
       "       [6.1, 2.9, 4.7, 1.4],\n",
       "       [5.6, 2.9, 3.6, 1.3],\n",
       "       [6.7, 3.1, 4.4, 1.4],\n",
       "       [5.6, 3. , 4.5, 1.5],\n",
       "       [5.8, 2.7, 4.1, 1. ],\n",
       "       [6.2, 2.2, 4.5, 1.5],\n",
       "       [5.6, 2.5, 3.9, 1.1],\n",
       "       [5.9, 3.2, 4.8, 1.8],\n",
       "       [6.1, 2.8, 4. , 1.3],\n",
       "       [6.3, 2.5, 4.9, 1.5],\n",
       "       [6.1, 2.8, 4.7, 1.2],\n",
       "       [6.4, 2.9, 4.3, 1.3],\n",
       "       [6.6, 3. , 4.4, 1.4],\n",
       "       [6.8, 2.8, 4.8, 1.4],\n",
       "       [6.7, 3. , 5. , 1.7],\n",
       "       [6. , 2.9, 4.5, 1.5],\n",
       "       [5.7, 2.6, 3.5, 1. ],\n",
       "       [5.5, 2.4, 3.8, 1.1],\n",
       "       [5.5, 2.4, 3.7, 1. ],\n",
       "       [5.8, 2.7, 3.9, 1.2],\n",
       "       [6. , 2.7, 5.1, 1.6],\n",
       "       [5.4, 3. , 4.5, 1.5],\n",
       "       [6. , 3.4, 4.5, 1.6],\n",
       "       [6.7, 3.1, 4.7, 1.5],\n",
       "       [6.3, 2.3, 4.4, 1.3],\n",
       "       [5.6, 3. , 4.1, 1.3],\n",
       "       [5.5, 2.5, 4. , 1.3],\n",
       "       [5.5, 2.6, 4.4, 1.2],\n",
       "       [6.1, 3. , 4.6, 1.4],\n",
       "       [5.8, 2.6, 4. , 1.2],\n",
       "       [5. , 2.3, 3.3, 1. ],\n",
       "       [5.6, 2.7, 4.2, 1.3],\n",
       "       [5.7, 3. , 4.2, 1.2],\n",
       "       [5.7, 2.9, 4.2, 1.3],\n",
       "       [6.2, 2.9, 4.3, 1.3],\n",
       "       [5.1, 2.5, 3. , 1.1],\n",
       "       [5.7, 2.8, 4.1, 1.3],\n",
       "       [6.3, 3.3, 6. , 2.5],\n",
       "       [5.8, 2.7, 5.1, 1.9],\n",
       "       [7.1, 3. , 5.9, 2.1],\n",
       "       [6.3, 2.9, 5.6, 1.8],\n",
       "       [6.5, 3. , 5.8, 2.2],\n",
       "       [7.6, 3. , 6.6, 2.1],\n",
       "       [4.9, 2.5, 4.5, 1.7],\n",
       "       [7.3, 2.9, 6.3, 1.8],\n",
       "       [6.7, 2.5, 5.8, 1.8],\n",
       "       [7.2, 3.6, 6.1, 2.5],\n",
       "       [6.5, 3.2, 5.1, 2. ],\n",
       "       [6.4, 2.7, 5.3, 1.9],\n",
       "       [6.8, 3. , 5.5, 2.1],\n",
       "       [5.7, 2.5, 5. , 2. ],\n",
       "       [5.8, 2.8, 5.1, 2.4],\n",
       "       [6.4, 3.2, 5.3, 2.3],\n",
       "       [6.5, 3. , 5.5, 1.8],\n",
       "       [7.7, 3.8, 6.7, 2.2],\n",
       "       [7.7, 2.6, 6.9, 2.3],\n",
       "       [6. , 2.2, 5. , 1.5],\n",
       "       [6.9, 3.2, 5.7, 2.3],\n",
       "       [5.6, 2.8, 4.9, 2. ],\n",
       "       [7.7, 2.8, 6.7, 2. ],\n",
       "       [6.3, 2.7, 4.9, 1.8],\n",
       "       [6.7, 3.3, 5.7, 2.1],\n",
       "       [7.2, 3.2, 6. , 1.8],\n",
       "       [6.2, 2.8, 4.8, 1.8],\n",
       "       [6.1, 3. , 4.9, 1.8],\n",
       "       [6.4, 2.8, 5.6, 2.1],\n",
       "       [7.2, 3. , 5.8, 1.6],\n",
       "       [7.4, 2.8, 6.1, 1.9],\n",
       "       [7.9, 3.8, 6.4, 2. ],\n",
       "       [6.4, 2.8, 5.6, 2.2],\n",
       "       [6.3, 2.8, 5.1, 1.5],\n",
       "       [6.1, 2.6, 5.6, 1.4],\n",
       "       [7.7, 3. , 6.1, 2.3],\n",
       "       [6.3, 3.4, 5.6, 2.4],\n",
       "       [6.4, 3.1, 5.5, 1.8],\n",
       "       [6. , 3. , 4.8, 1.8],\n",
       "       [6.9, 3.1, 5.4, 2.1],\n",
       "       [6.7, 3.1, 5.6, 2.4],\n",
       "       [6.9, 3.1, 5.1, 2.3],\n",
       "       [5.8, 2.7, 5.1, 1.9],\n",
       "       [6.8, 3.2, 5.9, 2.3],\n",
       "       [6.7, 3.3, 5.7, 2.5],\n",
       "       [6.7, 3. , 5.2, 2.3],\n",
       "       [6.3, 2.5, 5. , 1.9],\n",
       "       [6.5, 3. , 5.2, 2. ],\n",
       "       [6.2, 3.4, 5.4, 2.3],\n",
       "       [5.9, 3. , 5.1, 1.8]])"
      ]
     },
     "execution_count": 3,
     "metadata": {},
     "output_type": "execute_result"
    }
   ],
   "source": [
    "X"
   ]
  },
  {
   "cell_type": "code",
   "execution_count": 4,
   "id": "7bd749f5",
   "metadata": {},
   "outputs": [
    {
     "data": {
      "text/plain": [
       "array(['setosa', 'versicolor', 'virginica'], dtype='<U10')"
      ]
     },
     "execution_count": 4,
     "metadata": {},
     "output_type": "execute_result"
    }
   ],
   "source": [
    "data.target_names"
   ]
  },
  {
   "cell_type": "code",
   "execution_count": 5,
   "id": "6f9362ef",
   "metadata": {},
   "outputs": [
    {
     "data": {
      "text/plain": [
       "(150, 4)"
      ]
     },
     "execution_count": 5,
     "metadata": {},
     "output_type": "execute_result"
    }
   ],
   "source": [
    "X.shape"
   ]
  },
  {
   "cell_type": "code",
   "execution_count": 6,
   "id": "72d3bcd7",
   "metadata": {},
   "outputs": [
    {
     "data": {
      "text/plain": [
       "array([4.9, 3. , 1.4, 0.2])"
      ]
     },
     "execution_count": 6,
     "metadata": {},
     "output_type": "execute_result"
    }
   ],
   "source": [
    "X[1]"
   ]
  },
  {
   "cell_type": "code",
   "execution_count": 7,
   "id": "62022a1f",
   "metadata": {},
   "outputs": [],
   "source": [
    "V1 = X[0]\n",
    "V2 = X[1]\n",
    "V3 = X[2]"
   ]
  },
  {
   "cell_type": "code",
   "execution_count": 8,
   "id": "f6583f1d",
   "metadata": {},
   "outputs": [
    {
     "data": {
      "text/plain": [
       "array([14.7,  9.7,  4.1,  0.6])"
      ]
     },
     "execution_count": 8,
     "metadata": {},
     "output_type": "execute_result"
    }
   ],
   "source": [
    "V1+(V2+V3)"
   ]
  },
  {
   "cell_type": "code",
   "execution_count": 9,
   "id": "9d9fb6b5",
   "metadata": {},
   "outputs": [
    {
     "data": {
      "text/plain": [
       "array([14.7,  9.7,  4.1,  0.6])"
      ]
     },
     "execution_count": 9,
     "metadata": {},
     "output_type": "execute_result"
    }
   ],
   "source": [
    "(V1+V2)+V3"
   ]
  },
  {
   "cell_type": "code",
   "execution_count": 10,
   "id": "c537741f",
   "metadata": {},
   "outputs": [
    {
     "data": {
      "text/plain": [
       "array([0., 0., 0., 0.])"
      ]
     },
     "execution_count": 10,
     "metadata": {},
     "output_type": "execute_result"
    }
   ],
   "source": [
    "V1+(-1*V1)"
   ]
  },
  {
   "cell_type": "code",
   "execution_count": 11,
   "id": "b957efcb",
   "metadata": {},
   "outputs": [
    {
     "data": {
      "text/plain": [
       "array([0., 0., 0., 0.])"
      ]
     },
     "execution_count": 11,
     "metadata": {},
     "output_type": "execute_result"
    }
   ],
   "source": [
    "0*V1"
   ]
  },
  {
   "cell_type": "code",
   "execution_count": 12,
   "id": "2493b59e",
   "metadata": {},
   "outputs": [
    {
     "data": {
      "text/plain": [
       "array([5.1, 3.5, 1.4, 0.2])"
      ]
     },
     "execution_count": 12,
     "metadata": {},
     "output_type": "execute_result"
    }
   ],
   "source": [
    "1*V1"
   ]
  },
  {
   "cell_type": "markdown",
   "id": "5c855457",
   "metadata": {},
   "source": [
    "<H4> Multiple AXIOMS c(dx)=cd(x)=cdx=d(cx)"
   ]
  },
  {
   "cell_type": "code",
   "execution_count": 13,
   "id": "bca9ff00",
   "metadata": {},
   "outputs": [
    {
     "data": {
      "text/plain": [
       "array([30.6, 21. ,  8.4,  1.2])"
      ]
     },
     "execution_count": 13,
     "metadata": {},
     "output_type": "execute_result"
    }
   ],
   "source": [
    "2*(3*V1)"
   ]
  },
  {
   "cell_type": "code",
   "execution_count": 14,
   "id": "608a987a",
   "metadata": {},
   "outputs": [
    {
     "data": {
      "text/plain": [
       "array([30.6, 21. ,  8.4,  1.2])"
      ]
     },
     "execution_count": 14,
     "metadata": {},
     "output_type": "execute_result"
    }
   ],
   "source": [
    "3*2*(V1)"
   ]
  },
  {
   "cell_type": "code",
   "execution_count": 15,
   "id": "eb337076",
   "metadata": {},
   "outputs": [
    {
     "data": {
      "text/plain": [
       "array([30.6, 21. ,  8.4,  1.2])"
      ]
     },
     "execution_count": 15,
     "metadata": {},
     "output_type": "execute_result"
    }
   ],
   "source": [
    "3*(2*V1)"
   ]
  },
  {
   "cell_type": "code",
   "execution_count": 16,
   "id": "608479a0",
   "metadata": {},
   "outputs": [
    {
     "data": {
      "text/plain": [
       "array([30.6, 21. ,  8.4,  1.2])"
      ]
     },
     "execution_count": 16,
     "metadata": {},
     "output_type": "execute_result"
    }
   ],
   "source": [
    "3*2*V1"
   ]
  },
  {
   "cell_type": "markdown",
   "id": "f07e3225",
   "metadata": {},
   "source": [
    "<H4> Distributive Axioms"
   ]
  },
  {
   "cell_type": "code",
   "execution_count": 17,
   "id": "1446b634",
   "metadata": {},
   "outputs": [
    {
     "data": {
      "text/plain": [
       "array([25.5, 17.5,  7. ,  1. ])"
      ]
     },
     "execution_count": 17,
     "metadata": {},
     "output_type": "execute_result"
    }
   ],
   "source": [
    "(2+3)*V1"
   ]
  },
  {
   "cell_type": "code",
   "execution_count": 18,
   "id": "29e07a39",
   "metadata": {},
   "outputs": [
    {
     "data": {
      "text/plain": [
       "array([25.5, 17.5,  7. ,  1. ])"
      ]
     },
     "execution_count": 18,
     "metadata": {},
     "output_type": "execute_result"
    }
   ],
   "source": [
    "2*V1+3*V1"
   ]
  },
  {
   "cell_type": "markdown",
   "id": "5a233215",
   "metadata": {},
   "source": [
    "<H4> Visualize Vectors"
   ]
  },
  {
   "cell_type": "code",
   "execution_count": 19,
   "id": "26eca96e",
   "metadata": {},
   "outputs": [
    {
     "data": {
      "text/plain": [
       "array([5.1, 3.5, 1.4, 0.2])"
      ]
     },
     "execution_count": 19,
     "metadata": {},
     "output_type": "execute_result"
    }
   ],
   "source": [
    "V1"
   ]
  },
  {
   "cell_type": "code",
   "execution_count": 20,
   "id": "80b551ea",
   "metadata": {},
   "outputs": [
    {
     "data": {
      "text/plain": [
       "array([3.5, 1.4])"
      ]
     },
     "execution_count": 20,
     "metadata": {},
     "output_type": "execute_result"
    }
   ],
   "source": [
    "V1[1:3]"
   ]
  },
  {
   "cell_type": "code",
   "execution_count": 21,
   "id": "31f9b2eb",
   "metadata": {},
   "outputs": [
    {
     "name": "stdout",
     "output_type": "stream",
     "text": [
      "[5.1 3.5]\n",
      "[4.9 3. ]\n"
     ]
    }
   ],
   "source": [
    "v11 = V1[:2]\n",
    "v22 = V2[:2]\n",
    "print(v11)\n",
    "print(v22)"
   ]
  },
  {
   "cell_type": "code",
   "execution_count": 22,
   "id": "35eb6aa0",
   "metadata": {},
   "outputs": [
    {
     "data": {
      "image/png": "[encoded data removed]",
      "text/plain": [
       "<Figure size 432x288 with 1 Axes>"
      ]
     },
     "metadata": {
      "needs_background": "light"
     },
     "output_type": "display_data"
    }
   ],
   "source": [
    "x, y = zip(v11, v22)\n",
    "subplot = plt.subplot(111)\n",
    "subplot.scatter(x,y)\n",
    "subplot.arrow(0,0,v11[0],v11[1],head_length=0.3,head_width=0.2,color='blue',length_includes_head=True)\n",
    "subplot.arrow(0,0,v22[0],v22[1],head_length=0.3,head_width=0.2,color='red',length_includes_head=True)\n",
    "plt.grid()\n",
    "plt.show()"
   ]
  },
  {
   "cell_type": "code",
   "execution_count": 23,
   "id": "22bec606",
   "metadata": {},
   "outputs": [
    {
     "data": {
      "image/png": "[encoded data removed]",
      "text/plain": [
       "<Figure size 432x288 with 1 Axes>"
      ]
     },
     "metadata": {
      "needs_background": "light"
     },
     "output_type": "display_data"
    }
   ],
   "source": [
    "x, y = X[:,0], X[:,1]\n",
    "subplot = plt.subplot()\n",
    "subplot.scatter(x,y)\n",
    "plt.grid()\n",
    "plt.show()"
   ]
  },
  {
   "cell_type": "code",
   "execution_count": 24,
   "id": "85193afa",
   "metadata": {},
   "outputs": [
    {
     "data": {
      "image/png": "[encoded data removed]",
      "text/plain": [
       "<Figure size 432x288 with 1 Axes>"
      ]
     },
     "metadata": {
      "needs_background": "light"
     },
     "output_type": "display_data"
    }
   ],
   "source": [
    "#3d Visualization\n",
    "x, y, z = X[:,0], X[:,1], X[:,2]\n",
    "subplot = plt.subplot(projection='3d')\n",
    "subplot.scatter(x,y,z)\n",
    "plt.show()"
   ]
  },
  {
   "cell_type": "markdown",
   "id": "2d9ae42d",
   "metadata": {},
   "source": [
    "<H4> Norm of Vector"
   ]
  },
  {
   "cell_type": "code",
   "execution_count": 25,
   "id": "1ac08d34",
   "metadata": {},
   "outputs": [],
   "source": [
    "#defining the function without using linalg library\n",
    "def my_norm(vector, p=2): #it will take the vector and value of p based on that it will calculate\n",
    "    s = 0 # defining S to store the value\n",
    "    for i in range(len(vector)):\n",
    "        s += vector[i]**p #formula for vector\n",
    "    return s**(1/p)\n"
   ]
  },
  {
   "cell_type": "code",
   "execution_count": 26,
   "id": "01e7adff",
   "metadata": {},
   "outputs": [
    {
     "data": {
      "text/plain": [
       "6.345076831686122"
      ]
     },
     "execution_count": 26,
     "metadata": {},
     "output_type": "execute_result"
    }
   ],
   "source": [
    "my_norm(X[0])"
   ]
  },
  {
   "cell_type": "code",
   "execution_count": 27,
   "id": "0dbb02d6",
   "metadata": {},
   "outputs": [
    {
     "data": {
      "text/plain": [
       "5.6281532937072"
      ]
     },
     "execution_count": 27,
     "metadata": {},
     "output_type": "execute_result"
    }
   ],
   "source": [
    "my_norm(X[0], p =3)"
   ]
  },
  {
   "cell_type": "code",
   "execution_count": 28,
   "id": "368b54f7",
   "metadata": {},
   "outputs": [
    {
     "data": {
      "text/plain": [
       "4.58257569495584"
      ]
     },
     "execution_count": 28,
     "metadata": {},
     "output_type": "execute_result"
    }
   ],
   "source": [
    "x =np.array([1, -2, 4])\n",
    "my_norm(x)"
   ]
  },
  {
   "cell_type": "code",
   "execution_count": 29,
   "id": "1260e706",
   "metadata": {},
   "outputs": [
    {
     "data": {
      "text/plain": [
       "4.795831523312719"
      ]
     },
     "execution_count": 29,
     "metadata": {},
     "output_type": "execute_result"
    }
   ],
   "source": [
    "x = [4, -4, -1, 2]\n",
    "my_norm(x, p = 4)\n"
   ]
  },
  {
   "cell_type": "code",
   "execution_count": 30,
   "id": "61023e9e",
   "metadata": {},
   "outputs": [
    {
     "data": {
      "text/plain": [
       "4.795831523312719"
      ]
     },
     "execution_count": 30,
     "metadata": {},
     "output_type": "execute_result"
    }
   ],
   "source": [
    "\n",
    "np.linalg.norm(x, 4) #linalg is linear algebra is a library"
   ]
  },
  {
   "cell_type": "markdown",
   "id": "6ad80fd9",
   "metadata": {},
   "source": [
    "<H4> Dot Product of Vectors"
   ]
  },
  {
   "cell_type": "code",
   "execution_count": 31,
   "id": "af88cff8",
   "metadata": {},
   "outputs": [],
   "source": [
    "def inner_product(vector1,vector2):\n",
    "    s = 0\n",
    "    for i in range(len(vector1)):\n",
    "        s += vector1[i]*vector2[i]\n",
    "    return s"
   ]
  },
  {
   "cell_type": "code",
   "execution_count": 32,
   "id": "458894c0",
   "metadata": {},
   "outputs": [
    {
     "data": {
      "text/plain": [
       "37.489999999999995"
      ]
     },
     "execution_count": 32,
     "metadata": {},
     "output_type": "execute_result"
    }
   ],
   "source": [
    "inner_product(X[0],X[1])"
   ]
  },
  {
   "cell_type": "code",
   "execution_count": 33,
   "id": "135b9c6a",
   "metadata": {},
   "outputs": [
    {
     "data": {
      "text/plain": [
       "37.489999999999995"
      ]
     },
     "execution_count": 33,
     "metadata": {},
     "output_type": "execute_result"
    }
   ],
   "source": [
    "from numpy import linalg\n",
    "\n",
    "np.dot(X[0],X[1])"
   ]
  },
  {
   "cell_type": "code",
   "execution_count": 34,
   "id": "3702f261",
   "metadata": {},
   "outputs": [
    {
     "data": {
      "text/plain": [
       "37.489999999999995"
      ]
     },
     "execution_count": 34,
     "metadata": {},
     "output_type": "execute_result"
    }
   ],
   "source": [
    "X[0].dot(X[1])"
   ]
  },
  {
   "cell_type": "markdown",
   "id": "9ced135f",
   "metadata": {},
   "source": [
    "<H4>Calculate angle between Vectors"
   ]
  },
  {
   "cell_type": "code",
   "execution_count": 35,
   "id": "ac2708d7",
   "metadata": {},
   "outputs": [],
   "source": [
    "def cal_angle(vector1, vector2):\n",
    "    prod = inner_product(vector1,vector2)\n",
    "    n1 = my_norm(vector1)\n",
    "    n2 = my_norm(vector2)\n",
    "    theta = np.arccos(prod/(n1*n2))\n",
    "    return theta * 180/np.pi"
   ]
  },
  {
   "cell_type": "code",
   "execution_count": 36,
   "id": "abb05b30",
   "metadata": {},
   "outputs": [
    {
     "data": {
      "text/plain": [
       "38.2029290645368"
      ]
     },
     "execution_count": 36,
     "metadata": {},
     "output_type": "execute_result"
    }
   ],
   "source": [
    "x = [1,-1, 2]\n",
    "y = [5, 2, 7]\n",
    "cal_angle(x,y)"
   ]
  },
  {
   "cell_type": "code",
   "execution_count": 37,
   "id": "6a810c19",
   "metadata": {},
   "outputs": [
    {
     "data": {
      "text/plain": [
       "90.0"
      ]
     },
     "execution_count": 37,
     "metadata": {},
     "output_type": "execute_result"
    }
   ],
   "source": [
    "x = [0, 5, 10]\n",
    "y = [1, 0, 0]\n",
    "cal_angle(x,y)"
   ]
  },
  {
   "cell_type": "markdown",
   "id": "649e772c",
   "metadata": {},
   "source": [
    "<H4> Unit Vector"
   ]
  },
  {
   "cell_type": "code",
   "execution_count": 42,
   "id": "7be4fb07",
   "metadata": {},
   "outputs": [
    {
     "data": {
      "text/plain": [
       "array([ 0.32163376,  0.75047877,  0.53605627, -0.21442251])"
      ]
     },
     "execution_count": 42,
     "metadata": {},
     "output_type": "execute_result"
    }
   ],
   "source": [
    "x = np.array([3,7,5,-2])\n",
    "x_unit = x / np.linalg.norm(x) # to get the unit vector we need to divide it by norm itself\n",
    "x_unit"
   ]
  },
  {
   "cell_type": "code",
   "execution_count": 43,
   "id": "322f2138",
   "metadata": {},
   "outputs": [
    {
     "data": {
      "text/plain": [
       "0.9999999999999999"
      ]
     },
     "execution_count": 43,
     "metadata": {},
     "output_type": "execute_result"
    }
   ],
   "source": [
    "my_norm(x_unit)"
   ]
  },
  {
   "cell_type": "code",
   "execution_count": 49,
   "id": "c5ec3ca9",
   "metadata": {},
   "outputs": [
    {
     "data": {
      "text/plain": [
       "array([0.80377277, 0.55160877, 0.22064351, 0.0315205 ])"
      ]
     },
     "execution_count": 49,
     "metadata": {},
     "output_type": "execute_result"
    }
   ],
   "source": [
    "unit_vector = X[0] / np.linalg.norm(X[0]) # to get the unit vector we need to divide it by norm itself\n",
    "unit_vector"
   ]
  },
  {
   "cell_type": "code",
   "execution_count": 50,
   "id": "09836ba1",
   "metadata": {},
   "outputs": [
    {
     "data": {
      "text/plain": [
       "0.9999999999999999"
      ]
     },
     "execution_count": 50,
     "metadata": {},
     "output_type": "execute_result"
    }
   ],
   "source": [
    "my_norm(unit_vector)"
   ]
  },
  {
   "cell_type": "markdown",
   "id": "a7d915f4",
   "metadata": {},
   "source": [
    "<H4> Calculate Distance Between Vectors"
   ]
  },
  {
   "cell_type": "code",
   "execution_count": 52,
   "id": "95f738f7",
   "metadata": {},
   "outputs": [],
   "source": [
    "##Euclidian Distance\n",
    "def euclidean_distance(vector1,vector2):\n",
    "    s = 0\n",
    "    for i in range(len(vector1)):\n",
    "        s += (vector1[i]-vector2[i])**2\n",
    "    return s**0.5 # 0.5 denotes that the we are taking the squareroot\n",
    "        \n",
    "    \n",
    "    \n"
   ]
  },
  {
   "cell_type": "code",
   "execution_count": 53,
   "id": "9add17eb",
   "metadata": {},
   "outputs": [
    {
     "data": {
      "text/plain": [
       "0.5385164807134502"
      ]
     },
     "execution_count": 53,
     "metadata": {},
     "output_type": "execute_result"
    }
   ],
   "source": [
    "euclidean_distance(X[0],X[1])"
   ]
  },
  {
   "cell_type": "code",
   "execution_count": 54,
   "id": "e3242878",
   "metadata": {},
   "outputs": [
    {
     "data": {
      "text/plain": [
       "0.5385164807134502"
      ]
     },
     "execution_count": 54,
     "metadata": {},
     "output_type": "execute_result"
    }
   ],
   "source": [
    "euclidean_distance(X[1],X[0])"
   ]
  },
  {
   "cell_type": "code",
   "execution_count": 56,
   "id": "195b2b5e",
   "metadata": {},
   "outputs": [],
   "source": [
    "x, y, z = X[0], X[1], X[2]\n",
    "distxy = euclidean_distance(x,y)\n",
    "distyz = euclidean_distance(y,z)\n",
    "distxz = euclidean_distance(x,z)"
   ]
  },
  {
   "cell_type": "code",
   "execution_count": 57,
   "id": "3c4e8b72",
   "metadata": {},
   "outputs": [
    {
     "data": {
      "text/plain": [
       "0.5385164807134502"
      ]
     },
     "execution_count": 57,
     "metadata": {},
     "output_type": "execute_result"
    }
   ],
   "source": [
    "distxy"
   ]
  },
  {
   "cell_type": "code",
   "execution_count": 58,
   "id": "5d539d7e",
   "metadata": {},
   "outputs": [
    {
     "data": {
      "text/plain": [
       "0.8099019513592781"
      ]
     },
     "execution_count": 58,
     "metadata": {},
     "output_type": "execute_result"
    }
   ],
   "source": [
    "distyz + distxz"
   ]
  },
  {
   "cell_type": "code",
   "execution_count": 59,
   "id": "22c66abb",
   "metadata": {},
   "outputs": [],
   "source": [
    "## Manhattan Distance\n",
    "def Manhattan_distance(vector1,vector2):\n",
    "    s = 0\n",
    "    for i in range(len(vector1)):\n",
    "        s += abs(vector1[i]-vector2[i]) # for magnitude or absolute value we will give the function as abs\n",
    "    return s"
   ]
  },
  {
   "cell_type": "code",
   "execution_count": 60,
   "id": "ed7c9827",
   "metadata": {},
   "outputs": [
    {
     "data": {
      "text/plain": [
       "0.6999999999999993"
      ]
     },
     "execution_count": 60,
     "metadata": {},
     "output_type": "execute_result"
    }
   ],
   "source": [
    "Manhattan_distance(X[0], X[1])"
   ]
  },
  {
   "cell_type": "code",
   "execution_count": 61,
   "id": "1fd62db4",
   "metadata": {},
   "outputs": [
    {
     "data": {
      "text/plain": [
       "0.6999999999999993"
      ]
     },
     "execution_count": 61,
     "metadata": {},
     "output_type": "execute_result"
    }
   ],
   "source": [
    "Manhattan_distance(X[1], X[0])"
   ]
  },
  {
   "cell_type": "code",
   "execution_count": 64,
   "id": "25038b35",
   "metadata": {},
   "outputs": [],
   "source": [
    "x, y, z = X[0], X[1], X[2]\n",
    "distxy = Manhattan_distance(x,y)\n",
    "distyz = Manhattan_distance(y,z)\n",
    "distxz = Manhattan_distance(x,z)"
   ]
  },
  {
   "cell_type": "code",
   "execution_count": 65,
   "id": "bc9d560f",
   "metadata": {},
   "outputs": [
    {
     "data": {
      "text/plain": [
       "0.6999999999999993"
      ]
     },
     "execution_count": 65,
     "metadata": {},
     "output_type": "execute_result"
    }
   ],
   "source": [
    "distxy"
   ]
  },
  {
   "cell_type": "code",
   "execution_count": 66,
   "id": "1c518a2e",
   "metadata": {},
   "outputs": [
    {
     "data": {
      "text/plain": [
       "1.2999999999999994"
      ]
     },
     "execution_count": 66,
     "metadata": {},
     "output_type": "execute_result"
    }
   ],
   "source": [
    "distyz+distxz"
   ]
  },
  {
   "cell_type": "code",
   "execution_count": 70,
   "id": "07794dfd",
   "metadata": {},
   "outputs": [
    {
     "name": "stdout",
     "output_type": "stream",
     "text": [
      "(50, 4) (50, 4) (50, 4)\n"
     ]
    }
   ],
   "source": [
    "#Exercise\n",
    "y # this y variable denotes the first statement of Iris data that is data.target\n",
    "X_0, X_1, X_2 = X[:50,:], X[50:100,:], X[100:,:]\n",
    "print(X_0.shape, X_1.shape, X_2.shape)"
   ]
  },
  {
   "cell_type": "code",
   "execution_count": 74,
   "id": "7ab805de",
   "metadata": {},
   "outputs": [],
   "source": [
    "dist1 = euclidean_distance(X_0[0],X_1[1])\n",
    "dist2 = euclidean_distance(X_1[0],X_2[1])\n",
    "dist3 = euclidean_distance(X_0[0],X_2[1])"
   ]
  },
  {
   "cell_type": "code",
   "execution_count": 75,
   "id": "fda5f3ac",
   "metadata": {},
   "outputs": [
    {
     "data": {
      "text/plain": [
       "3.6166282640050254"
      ]
     },
     "execution_count": 75,
     "metadata": {},
     "output_type": "execute_result"
    }
   ],
   "source": [
    "dist1"
   ]
  },
  {
   "cell_type": "code",
   "execution_count": 76,
   "id": "802e86af",
   "metadata": {},
   "outputs": [
    {
     "data": {
      "text/plain": [
       "5.657462757119107"
      ]
     },
     "execution_count": 76,
     "metadata": {},
     "output_type": "execute_result"
    }
   ],
   "source": [
    "dist2+dist3"
   ]
  },
  {
   "cell_type": "code",
   "execution_count": 77,
   "id": "de830491",
   "metadata": {},
   "outputs": [],
   "source": [
    "dist11 = euclidean_distance(X_0[0],X_1[0])\n",
    "dist21 = euclidean_distance(X_1[0],X_2[0])\n",
    "dist31= euclidean_distance(X_0[0],X_2[0])"
   ]
  },
  {
   "cell_type": "code",
   "execution_count": 78,
   "id": "46b1fb10",
   "metadata": {},
   "outputs": [
    {
     "data": {
      "text/plain": [
       "4.003748243833521"
      ]
     },
     "execution_count": 78,
     "metadata": {},
     "output_type": "execute_result"
    }
   ],
   "source": [
    "dist11"
   ]
  },
  {
   "cell_type": "code",
   "execution_count": 81,
   "id": "a7a6dc6c",
   "metadata": {},
   "outputs": [
    {
     "data": {
      "text/plain": [
       "7.128792996148102"
      ]
     },
     "execution_count": 81,
     "metadata": {},
     "output_type": "execute_result"
    }
   ],
   "source": [
    "dist21+dist31"
   ]
  },
  {
   "cell_type": "code",
   "execution_count": 88,
   "id": "9d53169c",
   "metadata": {},
   "outputs": [],
   "source": [
    "dist1 = Manhattan_distance(X_0[0],X_0[1])\n",
    "dist2 = Manhattan_distance(X_1[0],X_1[1])\n",
    "dist3 = Manhattan_distance(X_2[0],X_2[1])"
   ]
  },
  {
   "cell_type": "code",
   "execution_count": 89,
   "id": "4efbfbc1",
   "metadata": {},
   "outputs": [
    {
     "name": "stdout",
     "output_type": "stream",
     "text": [
      "0.6999999999999993 0.8999999999999999 2.6\n"
     ]
    }
   ],
   "source": [
    "print(dist1, dist2, dist3)"
   ]
  },
  {
   "cell_type": "code",
   "execution_count": 85,
   "id": "af5e2784",
   "metadata": {},
   "outputs": [
    {
     "data": {
      "text/plain": [
       "9.5"
      ]
     },
     "execution_count": 85,
     "metadata": {},
     "output_type": "execute_result"
    }
   ],
   "source": [
    "dist2+dist3"
   ]
  },
  {
   "cell_type": "code",
   "execution_count": 87,
   "id": "97f048e5",
   "metadata": {},
   "outputs": [
    {
     "name": "stdout",
     "output_type": "stream",
     "text": [
      "6.000000000000001 2.9 7.1\n"
     ]
    }
   ],
   "source": [
    "dist11 = Manhattan_distance(X_0[0],X_1[1])\n",
    "dist21 = Manhattan_distance(X_1[1],X_2[2])\n",
    "dist31 = Manhattan_distance(X_0[2],X_2[1])\n",
    "print(dist11, dist21, dist31)"
   ]
  },
  {
   "cell_type": "code",
   "execution_count": 91,
   "id": "f7f6c000",
   "metadata": {},
   "outputs": [
    {
     "name": "stdout",
     "output_type": "stream",
     "text": [
      "7.0710678118654755 12\n"
     ]
    }
   ],
   "source": [
    "x = [1, -1, 2]\n",
    "y = [5, 2, 7]\n",
    "distxy1 = euclidean_distance(x,y)\n",
    "distxy2 = Manhattan_distance(x,y)\n",
    "print(distxy1, distxy2)"
   ]
  },
  {
   "cell_type": "code",
   "execution_count": 96,
   "id": "4825b034",
   "metadata": {},
   "outputs": [],
   "source": [
    "## Weighted Euclidean distance\n",
    "#w = [1.1,2,0.4,1.5]\n",
    "def wt_euclidean_distance(vector1, vector2, weight):\n",
    "    s = 0\n",
    "    for i in range(len(vector1)):\n",
    "        s +=weight[i]*(vector1[i]-vector2[i])**2\n",
    "    return s**0.5\n",
    "        \n",
    "      "
   ]
  },
  {
   "cell_type": "code",
   "execution_count": 97,
   "id": "7bb8d4d9",
   "metadata": {},
   "outputs": [
    {
     "data": {
      "text/plain": [
       "0.7375635565834308"
      ]
     },
     "execution_count": 97,
     "metadata": {},
     "output_type": "execute_result"
    }
   ],
   "source": [
    "w = [1.1,2,0.4,1.5]\n",
    "wt_euclidean_distance(X[0],X[1],w)"
   ]
  },
  {
   "cell_type": "code",
   "execution_count": 98,
   "id": "2c9deb0d",
   "metadata": {},
   "outputs": [
    {
     "name": "stdout",
     "output_type": "stream",
     "text": [
      "2.9013789824840193 1.5883954167649819 3.4102785809959864\n"
     ]
    }
   ],
   "source": [
    "dist10 = wt_euclidean_distance(X_0[0],X_1[1],w)\n",
    "dist20 = wt_euclidean_distance(X_1[0],X_2[1],w)\n",
    "dist30 = wt_euclidean_distance(X_0[0],X_2[1],w)\n",
    "print(dist10, dist20, dist30)"
   ]
  },
  {
   "cell_type": "code",
   "execution_count": 100,
   "id": "334ae09b",
   "metadata": {},
   "outputs": [
    {
     "name": "stdout",
     "output_type": "stream",
     "text": [
      "3.266037354348539 1.7464249196572983 4.250058823122334\n"
     ]
    }
   ],
   "source": [
    "dist13 = wt_euclidean_distance(X_0[0],X_1[0],w)\n",
    "dist23 = wt_euclidean_distance(X_1[0],X_2[0],w)\n",
    "dist33 = wt_euclidean_distance(X_0[0],X_2[0],w)\n",
    "print(dist13, dist23, dist33)"
   ]
  },
  {
   "cell_type": "markdown",
   "id": "2ae33002",
   "metadata": {},
   "source": [
    "<H4> Generate Random Matrix"
   ]
  },
  {
   "cell_type": "code",
   "execution_count": 115,
   "id": "d15deff4",
   "metadata": {},
   "outputs": [
    {
     "data": {
      "text/plain": [
       "array([[ 0.54726643,  0.07137906, -3.25749825, -0.42415133,  0.83282245,\n",
       "         0.46107202,  0.78701607, -2.27881791,  1.15087544,  0.02356752],\n",
       "       [-0.50799631,  0.65086818, -0.0644354 , -0.70299914,  0.22420203,\n",
       "        -0.67819259, -0.33194301, -0.95935892,  0.44132645,  0.2605222 ],\n",
       "       [ 0.74997956,  0.77487033,  1.00053076,  0.44444373, -0.55290759,\n",
       "         0.42243435, -0.60203621, -0.39876997, -1.00119816,  0.1721187 ],\n",
       "       [ 0.45745702,  0.11561796,  2.20333687, -0.8336561 , -0.7611836 ,\n",
       "        -0.46795617,  2.06092431,  0.6025778 , -1.16986204, -0.37908305],\n",
       "       [-0.49690775, -1.16203929,  1.09442272,  1.4818447 , -1.10373579,\n",
       "        -1.10333979,  0.59372475, -0.23306605,  0.36329737, -1.52067743],\n",
       "       [-1.19452956,  0.20396205, -0.25684813,  1.79196988,  0.95639439,\n",
       "         0.81885496,  0.92357605,  0.54093844, -0.05778608,  0.24711941],\n",
       "       [ 0.21831476,  0.58405786,  0.64363148, -0.28756259,  1.05939603,\n",
       "         1.25716081, -1.6018994 , -1.44325493,  0.63776779,  1.23078607],\n",
       "       [ 0.90936661,  0.77095363,  1.22951218,  0.23839962, -0.58594489,\n",
       "        -0.5208121 , -0.34495598,  1.22005404, -0.19298712, -0.93779672],\n",
       "       [ 1.08741467,  0.40041979,  0.30040094,  0.02320375, -0.2831818 ,\n",
       "        -0.59568615, -0.26841228,  1.35257328,  0.50570537,  1.63699193],\n",
       "       [ 2.23925772,  0.86254648, -1.11576895,  0.3500461 ,  0.47673508,\n",
       "        -0.21667006, -1.4353168 ,  0.94652944,  0.82984085, -0.14367986]])"
      ]
     },
     "execution_count": 115,
     "metadata": {},
     "output_type": "execute_result"
    }
   ],
   "source": [
    "A = np.random.randn(10,10)\n",
    "A"
   ]
  },
  {
   "cell_type": "code",
   "execution_count": 116,
   "id": "2be56577",
   "metadata": {},
   "outputs": [
    {
     "data": {
      "text/plain": [
       "(10, 10)"
      ]
     },
     "execution_count": 116,
     "metadata": {},
     "output_type": "execute_result"
    }
   ],
   "source": [
    "A.shape"
   ]
  },
  {
   "cell_type": "code",
   "execution_count": 117,
   "id": "5ea23876",
   "metadata": {},
   "outputs": [
    {
     "data": {
      "text/plain": [
       "array([ 0.54726643,  0.07137906, -3.25749825, -0.42415133,  0.83282245,\n",
       "        0.46107202,  0.78701607, -2.27881791,  1.15087544,  0.02356752])"
      ]
     },
     "execution_count": 117,
     "metadata": {},
     "output_type": "execute_result"
    }
   ],
   "source": [
    "A[0,:]"
   ]
  },
  {
   "cell_type": "code",
   "execution_count": 118,
   "id": "c7b12ffb",
   "metadata": {},
   "outputs": [
    {
     "data": {
      "text/plain": [
       "array([ 0.54726643, -0.50799631,  0.74997956,  0.45745702, -0.49690775,\n",
       "       -1.19452956,  0.21831476,  0.90936661,  1.08741467,  2.23925772])"
      ]
     },
     "execution_count": 118,
     "metadata": {},
     "output_type": "execute_result"
    }
   ],
   "source": [
    "A[:,0]"
   ]
  },
  {
   "cell_type": "code",
   "execution_count": 120,
   "id": "8af341ea",
   "metadata": {},
   "outputs": [
    {
     "data": {
      "text/plain": [
       "array([[ 0.54726643,  0.07137906, -3.25749825],\n",
       "       [-0.50799631,  0.65086818, -0.0644354 ],\n",
       "       [ 0.74997956,  0.77487033,  1.00053076]])"
      ]
     },
     "execution_count": 120,
     "metadata": {},
     "output_type": "execute_result"
    }
   ],
   "source": [
    "A[0:3,0:3]"
   ]
  },
  {
   "cell_type": "code",
   "execution_count": 121,
   "id": "cef3bbd2",
   "metadata": {},
   "outputs": [
    {
     "data": {
      "text/plain": [
       "array([[-0.48371839],\n",
       "       [-1.14474826],\n",
       "       [-1.14664358],\n",
       "       [-0.31594601],\n",
       "       [ 0.41482276],\n",
       "       [ 1.17561874],\n",
       "       [-0.68512789],\n",
       "       [-0.12248631],\n",
       "       [-0.96835134],\n",
       "       [ 0.3823845 ],\n",
       "       [-0.11752928],\n",
       "       [-1.50884194],\n",
       "       [ 1.67477505],\n",
       "       [ 1.1935974 ],\n",
       "       [-0.45456498],\n",
       "       [-0.60448109],\n",
       "       [-0.49478153],\n",
       "       [-1.85296713],\n",
       "       [-0.57793009],\n",
       "       [ 0.14651931],\n",
       "       [ 0.15417038],\n",
       "       [ 0.98892333],\n",
       "       [-0.97723155],\n",
       "       [ 0.38787083],\n",
       "       [-0.45166833],\n",
       "       [ 2.21087749],\n",
       "       [-0.43250478],\n",
       "       [-0.09404047],\n",
       "       [ 0.62610453],\n",
       "       [-1.48458172],\n",
       "       [ 0.46310197],\n",
       "       [-0.2413917 ],\n",
       "       [-0.97373711],\n",
       "       [-0.1584574 ],\n",
       "       [-0.6778327 ],\n",
       "       [-0.64659698],\n",
       "       [ 0.00639954],\n",
       "       [ 0.49891289],\n",
       "       [ 1.66000089],\n",
       "       [-0.87554188],\n",
       "       [-1.64503333],\n",
       "       [ 1.2660999 ],\n",
       "       [-0.02083233],\n",
       "       [-1.1812747 ],\n",
       "       [-0.15521606],\n",
       "       [-0.0484197 ],\n",
       "       [ 0.51510634],\n",
       "       [ 0.95918881],\n",
       "       [-1.41414617],\n",
       "       [ 0.79300744],\n",
       "       [ 0.82670365],\n",
       "       [-0.26075328],\n",
       "       [-0.7420621 ],\n",
       "       [-0.59889337],\n",
       "       [ 1.88368805],\n",
       "       [ 0.48802797],\n",
       "       [-0.19338356],\n",
       "       [ 0.73068352],\n",
       "       [-0.32633424],\n",
       "       [-0.89085339],\n",
       "       [-1.57085828],\n",
       "       [-1.56764483],\n",
       "       [ 0.09628512],\n",
       "       [ 0.20132112],\n",
       "       [ 1.55912397],\n",
       "       [-1.33355984],\n",
       "       [-0.12588812],\n",
       "       [ 1.58477741],\n",
       "       [ 1.11521884],\n",
       "       [ 0.71440248],\n",
       "       [ 1.2234494 ],\n",
       "       [ 0.73353563],\n",
       "       [-0.3990943 ],\n",
       "       [ 1.4657863 ],\n",
       "       [-0.6361971 ],\n",
       "       [ 0.02967167],\n",
       "       [-0.91113035],\n",
       "       [ 0.98086026],\n",
       "       [-0.33314683],\n",
       "       [ 0.60083183],\n",
       "       [-0.38841059],\n",
       "       [ 0.74248954],\n",
       "       [-0.15675959],\n",
       "       [ 0.94492158],\n",
       "       [ 0.31783573],\n",
       "       [-1.25261555],\n",
       "       [-1.79003963],\n",
       "       [-0.4066833 ],\n",
       "       [ 1.71727183],\n",
       "       [ 0.86326426],\n",
       "       [-0.53110821],\n",
       "       [ 0.18328854],\n",
       "       [ 0.70710034],\n",
       "       [ 1.18117094],\n",
       "       [ 1.82769916],\n",
       "       [-0.00636847],\n",
       "       [-1.35374375],\n",
       "       [ 1.77467557],\n",
       "       [-0.86294567],\n",
       "       [-0.00306914]])"
      ]
     },
     "execution_count": 121,
     "metadata": {},
     "output_type": "execute_result"
    }
   ],
   "source": [
    "v = np.random.randn(100,1)\n",
    "v"
   ]
  },
  {
   "cell_type": "code",
   "execution_count": 122,
   "id": "47d96d38",
   "metadata": {},
   "outputs": [
    {
     "data": {
      "text/plain": [
       "array([[-0.48371839, -1.14474826, -1.14664358, -0.31594601,  0.41482276,\n",
       "         1.17561874, -0.68512789, -0.12248631, -0.96835134,  0.3823845 ],\n",
       "       [-0.11752928, -1.50884194,  1.67477505,  1.1935974 , -0.45456498,\n",
       "        -0.60448109, -0.49478153, -1.85296713, -0.57793009,  0.14651931],\n",
       "       [ 0.15417038,  0.98892333, -0.97723155,  0.38787083, -0.45166833,\n",
       "         2.21087749, -0.43250478, -0.09404047,  0.62610453, -1.48458172],\n",
       "       [ 0.46310197, -0.2413917 , -0.97373711, -0.1584574 , -0.6778327 ,\n",
       "        -0.64659698,  0.00639954,  0.49891289,  1.66000089, -0.87554188],\n",
       "       [-1.64503333,  1.2660999 , -0.02083233, -1.1812747 , -0.15521606,\n",
       "        -0.0484197 ,  0.51510634,  0.95918881, -1.41414617,  0.79300744],\n",
       "       [ 0.82670365, -0.26075328, -0.7420621 , -0.59889337,  1.88368805,\n",
       "         0.48802797, -0.19338356,  0.73068352, -0.32633424, -0.89085339],\n",
       "       [-1.57085828, -1.56764483,  0.09628512,  0.20132112,  1.55912397,\n",
       "        -1.33355984, -0.12588812,  1.58477741,  1.11521884,  0.71440248],\n",
       "       [ 1.2234494 ,  0.73353563, -0.3990943 ,  1.4657863 , -0.6361971 ,\n",
       "         0.02967167, -0.91113035,  0.98086026, -0.33314683,  0.60083183],\n",
       "       [-0.38841059,  0.74248954, -0.15675959,  0.94492158,  0.31783573,\n",
       "        -1.25261555, -1.79003963, -0.4066833 ,  1.71727183,  0.86326426],\n",
       "       [-0.53110821,  0.18328854,  0.70710034,  1.18117094,  1.82769916,\n",
       "        -0.00636847, -1.35374375,  1.77467557, -0.86294567, -0.00306914]])"
      ]
     },
     "execution_count": 122,
     "metadata": {},
     "output_type": "execute_result"
    }
   ],
   "source": [
    "np.resize(v,(10,10)) #reshaping the matrix"
   ]
  },
  {
   "cell_type": "markdown",
   "id": "8e6a3820",
   "metadata": {},
   "source": [
    "<H4>Matrix Transpose"
   ]
  },
  {
   "cell_type": "code",
   "execution_count": 124,
   "id": "de05f4c0",
   "metadata": {},
   "outputs": [
    {
     "data": {
      "text/plain": [
       "array([[ 2,  3,  5],\n",
       "       [ 1, -4,  1],\n",
       "       [ 0,  0,  3]])"
      ]
     },
     "execution_count": 124,
     "metadata": {},
     "output_type": "execute_result"
    }
   ],
   "source": [
    "a = np.array([[2,3,5],[1,-4,1],[0,0,3]])\n",
    "a"
   ]
  },
  {
   "cell_type": "code",
   "execution_count": 125,
   "id": "0da0508d",
   "metadata": {},
   "outputs": [
    {
     "data": {
      "text/plain": [
       "array([[ 2,  1,  0],\n",
       "       [ 3, -4,  0],\n",
       "       [ 5,  1,  3]])"
      ]
     },
     "execution_count": 125,
     "metadata": {},
     "output_type": "execute_result"
    }
   ],
   "source": [
    "a.T # transpose of Matrix"
   ]
  },
  {
   "cell_type": "code",
   "execution_count": 126,
   "id": "bb062ed5",
   "metadata": {},
   "outputs": [
    {
     "data": {
      "text/plain": [
       "array([[ 2,  1,  0],\n",
       "       [ 3, -4,  0],\n",
       "       [ 5,  1,  3]])"
      ]
     },
     "execution_count": 126,
     "metadata": {},
     "output_type": "execute_result"
    }
   ],
   "source": [
    "np.transpose(a)# transpose of Matrix"
   ]
  },
  {
   "cell_type": "markdown",
   "id": "fb419d3c",
   "metadata": {},
   "source": [
    "<H4> Generate Symmetric Matrix"
   ]
  },
  {
   "cell_type": "code",
   "execution_count": 128,
   "id": "cdf5e44e",
   "metadata": {},
   "outputs": [
    {
     "data": {
      "text/plain": [
       "array([[ 4,  4,  5],\n",
       "       [ 4, -8,  1],\n",
       "       [ 5,  1,  6]])"
      ]
     },
     "execution_count": 128,
     "metadata": {},
     "output_type": "execute_result"
    }
   ],
   "source": [
    "B = a + a.T # A+A.T is symmetric Matrix\n",
    "B"
   ]
  },
  {
   "cell_type": "code",
   "execution_count": 129,
   "id": "cbcb0944",
   "metadata": {},
   "outputs": [
    {
     "data": {
      "text/plain": [
       "array([[ 4,  4,  5],\n",
       "       [ 4, -8,  1],\n",
       "       [ 5,  1,  6]])"
      ]
     },
     "execution_count": 129,
     "metadata": {},
     "output_type": "execute_result"
    }
   ],
   "source": [
    "B.T "
   ]
  },
  {
   "cell_type": "code",
   "execution_count": 130,
   "id": "b6d8b3ea",
   "metadata": {},
   "outputs": [
    {
     "data": {
      "text/plain": [
       "array([[ 0,  2,  5],\n",
       "       [-2,  0,  1],\n",
       "       [-5, -1,  0]])"
      ]
     },
     "execution_count": 130,
     "metadata": {},
     "output_type": "execute_result"
    }
   ],
   "source": [
    "B1 = a - a.T # a-a.T is not symmetric, It is also known as Adjoint Matrix\n",
    "B1"
   ]
  },
  {
   "cell_type": "code",
   "execution_count": 131,
   "id": "3cb072de",
   "metadata": {},
   "outputs": [
    {
     "data": {
      "text/plain": [
       "array([[ 0, -2, -5],\n",
       "       [ 2,  0, -1],\n",
       "       [ 5,  1,  0]])"
      ]
     },
     "execution_count": 131,
     "metadata": {},
     "output_type": "execute_result"
    }
   ],
   "source": [
    "B1.T"
   ]
  },
  {
   "cell_type": "markdown",
   "id": "e1f56d5a",
   "metadata": {},
   "source": [
    "<H4> Scalar Multiplication"
   ]
  },
  {
   "cell_type": "code",
   "execution_count": 132,
   "id": "dcf19abf",
   "metadata": {},
   "outputs": [
    {
     "data": {
      "text/plain": [
       "array([[ 2,  3,  5],\n",
       "       [ 1, -4,  1],\n",
       "       [ 0,  0,  3]])"
      ]
     },
     "execution_count": 132,
     "metadata": {},
     "output_type": "execute_result"
    }
   ],
   "source": [
    "a = np.array([[2,3,5],[1,-4,1],[0,0,3]])\n",
    "a"
   ]
  },
  {
   "cell_type": "code",
   "execution_count": 133,
   "id": "3dae9bf0",
   "metadata": {},
   "outputs": [
    {
     "data": {
      "text/plain": [
       "array([[ 4,  6, 10],\n",
       "       [ 2, -8,  2],\n",
       "       [ 0,  0,  6]])"
      ]
     },
     "execution_count": 133,
     "metadata": {},
     "output_type": "execute_result"
    }
   ],
   "source": [
    "2*a"
   ]
  },
  {
   "cell_type": "code",
   "execution_count": 134,
   "id": "813347bc",
   "metadata": {},
   "outputs": [
    {
     "data": {
      "text/plain": [
       "array([[ 1. ,  1.5,  2.5],\n",
       "       [ 0.5, -2. ,  0.5],\n",
       "       [ 0. ,  0. ,  1.5]])"
      ]
     },
     "execution_count": 134,
     "metadata": {},
     "output_type": "execute_result"
    }
   ],
   "source": [
    "0.5*a"
   ]
  },
  {
   "cell_type": "code",
   "execution_count": 135,
   "id": "60519c9a",
   "metadata": {},
   "outputs": [
    {
     "data": {
      "text/plain": [
       "array([[ 1. ,  1.5,  2.5],\n",
       "       [ 0.5, -2. ,  0.5],\n",
       "       [ 0. ,  0. ,  1.5]])"
      ]
     },
     "execution_count": 135,
     "metadata": {},
     "output_type": "execute_result"
    }
   ],
   "source": [
    "a*0.5"
   ]
  },
  {
   "cell_type": "markdown",
   "id": "cce193b6",
   "metadata": {},
   "source": [
    "<H4> Matrix Addition "
   ]
  },
  {
   "cell_type": "code",
   "execution_count": 136,
   "id": "9e76c6dc",
   "metadata": {},
   "outputs": [
    {
     "data": {
      "text/plain": [
       "array([[ 3,  2,  9],\n",
       "       [-3,  1, 13]])"
      ]
     },
     "execution_count": 136,
     "metadata": {},
     "output_type": "execute_result"
    }
   ],
   "source": [
    "# Matrix is always with multiple matrix\n",
    "\n",
    "A = np.array([[1,5,2],[-2,3,7]])\n",
    "B = np.array([[2,-3,7],[-1,-2,6]])\n",
    "A+B"
   ]
  },
  {
   "cell_type": "code",
   "execution_count": 137,
   "id": "03bb2620",
   "metadata": {},
   "outputs": [
    {
     "data": {
      "text/plain": [
       "array([[-1,  8, -5],\n",
       "       [-1,  5,  1]])"
      ]
     },
     "execution_count": 137,
     "metadata": {},
     "output_type": "execute_result"
    }
   ],
   "source": [
    "A-B"
   ]
  },
  {
   "cell_type": "code",
   "execution_count": 140,
   "id": "28c0d0d7",
   "metadata": {},
   "outputs": [
    {
     "data": {
      "text/plain": [
       "array([[ -4,  19, -17],\n",
       "       [ -1,  12,  -4]])"
      ]
     },
     "execution_count": 140,
     "metadata": {},
     "output_type": "execute_result"
    }
   ],
   "source": [
    "C = 2*A - 3*B\n",
    "C"
   ]
  },
  {
   "cell_type": "code",
   "execution_count": 141,
   "id": "1bcfe3a9",
   "metadata": {},
   "outputs": [
    {
     "data": {
      "text/plain": [
       "array([[ 6,  4, 18],\n",
       "       [-6,  2, 26]])"
      ]
     },
     "execution_count": 141,
     "metadata": {},
     "output_type": "execute_result"
    }
   ],
   "source": [
    "2*(A+B)"
   ]
  },
  {
   "cell_type": "code",
   "execution_count": 142,
   "id": "6f51fabd",
   "metadata": {},
   "outputs": [
    {
     "data": {
      "text/plain": [
       "array([[ 6,  4, 18],\n",
       "       [-6,  2, 26]])"
      ]
     },
     "execution_count": 142,
     "metadata": {},
     "output_type": "execute_result"
    }
   ],
   "source": [
    "2*A + 2*B"
   ]
  },
  {
   "cell_type": "code",
   "execution_count": 143,
   "id": "ef5c71e3",
   "metadata": {},
   "outputs": [
    {
     "data": {
      "text/plain": [
       "array([[0.2659417 , 0.46623917],\n",
       "       [0.88588193, 0.63052371]])"
      ]
     },
     "execution_count": 143,
     "metadata": {},
     "output_type": "execute_result"
    }
   ],
   "source": [
    "A1 = np.random.randn(2,2)\n",
    "B1 = np.random.randn(2,2)\n",
    "A1"
   ]
  },
  {
   "cell_type": "code",
   "execution_count": 144,
   "id": "23004ab4",
   "metadata": {},
   "outputs": [
    {
     "data": {
      "text/plain": [
       "array([[-1.1397585 ,  0.51408794],\n",
       "       [-0.11839518, -0.83920651]])"
      ]
     },
     "execution_count": 144,
     "metadata": {},
     "output_type": "execute_result"
    }
   ],
   "source": [
    "B1"
   ]
  },
  {
   "cell_type": "code",
   "execution_count": 145,
   "id": "0551578e",
   "metadata": {},
   "outputs": [
    {
     "data": {
      "text/plain": [
       "array([[-1.7476336 ,  1.96065423],\n",
       "       [ 1.5349735 , -0.41736558]])"
      ]
     },
     "execution_count": 145,
     "metadata": {},
     "output_type": "execute_result"
    }
   ],
   "source": [
    "2*(A1+B1) # 2*(A+B) = 2*A + 2*B, Hence Condition is True"
   ]
  },
  {
   "cell_type": "code",
   "execution_count": 146,
   "id": "b63d3c0f",
   "metadata": {},
   "outputs": [
    {
     "data": {
      "text/plain": [
       "array([[-1.7476336 ,  1.96065423],\n",
       "       [ 1.5349735 , -0.41736558]])"
      ]
     },
     "execution_count": 146,
     "metadata": {},
     "output_type": "execute_result"
    }
   ],
   "source": [
    "2*A1 + 2*B1"
   ]
  },
  {
   "cell_type": "code",
   "execution_count": 150,
   "id": "a2a5f882",
   "metadata": {},
   "outputs": [
    {
     "data": {
      "text/plain": [
       "array([[1.06376682, 1.86495668],\n",
       "       [8.85881927, 6.30523715]])"
      ]
     },
     "execution_count": 150,
     "metadata": {},
     "output_type": "execute_result"
    }
   ],
   "source": [
    "x = np.array([[2],[5]])\n",
    "x = 2*x\n",
    "A1*x"
   ]
  },
  {
   "cell_type": "markdown",
   "id": "a8b2fba2",
   "metadata": {},
   "source": [
    "<H4> Matrix Multiplication"
   ]
  },
  {
   "cell_type": "code",
   "execution_count": 153,
   "id": "cba89f2e",
   "metadata": {},
   "outputs": [
    {
     "data": {
      "text/plain": [
       "array([[ -1,  -6],\n",
       "       [-14,  42]])"
      ]
     },
     "execution_count": 153,
     "metadata": {},
     "output_type": "execute_result"
    }
   ],
   "source": [
    "A = np.array([[1,2,-3],[7,-1,2]])\n",
    "B = np.array([[-2,5],[2,-1],[1,3]])\n",
    "np.matmul(A,B)"
   ]
  },
  {
   "cell_type": "code",
   "execution_count": 154,
   "id": "b6a0f7ff",
   "metadata": {},
   "outputs": [
    {
     "data": {
      "text/plain": [
       "array([[33, -9, 16],\n",
       "       [-5,  5, -8],\n",
       "       [22, -1,  3]])"
      ]
     },
     "execution_count": 154,
     "metadata": {},
     "output_type": "execute_result"
    }
   ],
   "source": [
    "np.matmul(B,A)"
   ]
  },
  {
   "cell_type": "code",
   "execution_count": 157,
   "id": "d9a653ca",
   "metadata": {},
   "outputs": [
    {
     "data": {
      "text/plain": [
       "array([[ 1,  7],\n",
       "       [ 2, -1],\n",
       "       [-3,  2]])"
      ]
     },
     "execution_count": 157,
     "metadata": {},
     "output_type": "execute_result"
    }
   ],
   "source": [
    "A.T"
   ]
  },
  {
   "cell_type": "code",
   "execution_count": 162,
   "id": "3ed8dc46",
   "metadata": {},
   "outputs": [
    {
     "data": {
      "text/plain": [
       "array([[-2,  2,  1],\n",
       "       [ 5, -1,  3]])"
      ]
     },
     "execution_count": 162,
     "metadata": {},
     "output_type": "execute_result"
    }
   ],
   "source": [
    "B.T"
   ]
  },
  {
   "cell_type": "code",
   "execution_count": 163,
   "id": "b8418b90",
   "metadata": {},
   "outputs": [
    {
     "data": {
      "text/plain": [
       "array([[-2,  4, -3],\n",
       "       [35,  1,  6]])"
      ]
     },
     "execution_count": 163,
     "metadata": {},
     "output_type": "execute_result"
    }
   ],
   "source": [
    "A*B.T"
   ]
  },
  {
   "cell_type": "code",
   "execution_count": 164,
   "id": "48676b26",
   "metadata": {},
   "outputs": [
    {
     "data": {
      "text/plain": [
       "array([[-2, 35],\n",
       "       [ 4,  1],\n",
       "       [-3,  6]])"
      ]
     },
     "execution_count": 164,
     "metadata": {},
     "output_type": "execute_result"
    }
   ],
   "source": [
    "A.T*B"
   ]
  },
  {
   "cell_type": "code",
   "execution_count": 165,
   "id": "d1c1e49a",
   "metadata": {},
   "outputs": [
    {
     "data": {
      "text/plain": [
       "array([[ 0.90012022,  0.22047884,  2.03732941],\n",
       "       [ 2.2008372 ,  0.51534229,  0.12572696],\n",
       "       [-0.86724939,  0.45711072,  2.11101869]])"
      ]
     },
     "execution_count": 165,
     "metadata": {},
     "output_type": "execute_result"
    }
   ],
   "source": [
    "A = np.random.randn(3,3)\n",
    "A"
   ]
  },
  {
   "cell_type": "code",
   "execution_count": 167,
   "id": "00c48e8f",
   "metadata": {},
   "outputs": [
    {
     "data": {
      "text/plain": [
       "array([[-0.39272385, -0.32109902, -1.0073496 ],\n",
       "       [ 0.97038543, -0.26984693,  0.74416321],\n",
       "       [-1.43889421, -0.46024028, -1.02072749]])"
      ]
     },
     "execution_count": 167,
     "metadata": {},
     "output_type": "execute_result"
    }
   ],
   "source": [
    "B = np.random.randn(3,3)\n",
    "C = np.random.randn(3,3)\n",
    "B"
   ]
  },
  {
   "cell_type": "code",
   "execution_count": 168,
   "id": "5058a392",
   "metadata": {},
   "outputs": [
    {
     "data": {
      "text/plain": [
       "array([[ 0.59903598, -0.0582459 , -1.227365  ],\n",
       "       [ 0.58182656,  0.38766661,  0.02732498],\n",
       "       [ 0.80599378,  1.47797021, -1.84709913]])"
      ]
     },
     "execution_count": 168,
     "metadata": {},
     "output_type": "execute_result"
    }
   ],
   "source": [
    "C"
   ]
  },
  {
   "cell_type": "code",
   "execution_count": 170,
   "id": "c1506613",
   "metadata": {},
   "outputs": [
    {
     "data": {
      "text/plain": [
       "array([[-4.86269915, -4.49089413,  8.94707833],\n",
       "       [-2.43354681, -3.21809957,  4.26813008],\n",
       "       [-2.58331259, -1.57601199,  4.48149259]])"
      ]
     },
     "execution_count": 170,
     "metadata": {},
     "output_type": "execute_result"
    }
   ],
   "source": [
    "D = np.matmul(A,B) # (AB)C = A(BC) # np.matmul((np.matul(A,B),C))\n",
    "np.matmul(D,C)"
   ]
  },
  {
   "cell_type": "code",
   "execution_count": 171,
   "id": "02bdca3c",
   "metadata": {},
   "outputs": [
    {
     "data": {
      "text/plain": [
       "array([[-4.86269915, -4.49089413,  8.94707833],\n",
       "       [-2.43354681, -3.21809957,  4.26813008],\n",
       "       [-2.58331259, -1.57601199,  4.48149259]])"
      ]
     },
     "execution_count": 171,
     "metadata": {},
     "output_type": "execute_result"
    }
   ],
   "source": [
    "E = np.matmul(B,C)\n",
    "np.matmul(A,E)"
   ]
  },
  {
   "cell_type": "code",
   "execution_count": 172,
   "id": "a5679d88",
   "metadata": {},
   "outputs": [
    {
     "data": {
      "text/plain": [
       "array([[-0.76149104,  1.75797185, -7.6841225 ],\n",
       "       [ 1.17440725, -0.64620285, -4.88122565],\n",
       "       [-0.80545596,  2.5312902 , -3.76332521]])"
      ]
     },
     "execution_count": 172,
     "metadata": {},
     "output_type": "execute_result"
    }
   ],
   "source": [
    "np.matmul(A,(B+C))"
   ]
  },
  {
   "cell_type": "code",
   "execution_count": 174,
   "id": "4b82796c",
   "metadata": {},
   "outputs": [
    {
     "data": {
      "text/plain": [
       "array([[-0.76149104,  1.75797185, -7.6841225 ],\n",
       "       [ 1.17440725, -0.64620285, -4.88122565],\n",
       "       [-0.80545596,  2.5312902 , -3.76332521]])"
      ]
     },
     "execution_count": 174,
     "metadata": {},
     "output_type": "execute_result"
    }
   ],
   "source": [
    "np.matmul(A,B) + np.matmul(A,C)"
   ]
  },
  {
   "cell_type": "code",
   "execution_count": 175,
   "id": "efdad69f",
   "metadata": {},
   "outputs": [
    {
     "data": {
      "text/plain": [
       "array([[ 1.07556251,  1.45371864, -2.52798481],\n",
       "       [ 2.74363825,  1.19613141, -5.49231288],\n",
       "       [-0.50451593,  1.7445281 ,  0.81651848]])"
      ]
     },
     "execution_count": 175,
     "metadata": {},
     "output_type": "execute_result"
    }
   ],
   "source": [
    "np.matmul((A+B),C) ##(A+B)C = AC + BC"
   ]
  },
  {
   "cell_type": "code",
   "execution_count": 176,
   "id": "0af176e0",
   "metadata": {},
   "outputs": [
    {
     "data": {
      "text/plain": [
       "array([[ 1.07556251,  1.45371864, -2.52798481],\n",
       "       [ 2.74363825,  1.19613141, -5.49231288],\n",
       "       [-0.50451593,  1.7445281 ,  0.81651848]])"
      ]
     },
     "execution_count": 176,
     "metadata": {},
     "output_type": "execute_result"
    }
   ],
   "source": [
    "np.matmul(A,C) + np.matmul(B,C)"
   ]
  },
  {
   "cell_type": "code",
   "execution_count": 179,
   "id": "221ea3ca",
   "metadata": {},
   "outputs": [
    {
     "data": {
      "text/plain": [
       "array([[-3.07105071, -0.5451484 , -2.25336946],\n",
       "       [-1.28618431, -0.90361481, -0.81645283],\n",
       "       [-2.82222164, -1.96184667, -0.9409865 ]])"
      ]
     },
     "execution_count": 179,
     "metadata": {},
     "output_type": "execute_result"
    }
   ],
   "source": [
    "np.transpose(np.matmul(A,B))"
   ]
  },
  {
   "cell_type": "code",
   "execution_count": 181,
   "id": "6362b587",
   "metadata": {},
   "outputs": [
    {
     "data": {
      "text/plain": [
       "array([[-0.18656202, -0.3658007 , -1.4228664 ],\n",
       "       [-0.71253351,  0.41505091, -1.02101248],\n",
       "       [-2.96701249,  3.5140102 , -5.14414091]])"
      ]
     },
     "execution_count": 181,
     "metadata": {},
     "output_type": "execute_result"
    }
   ],
   "source": [
    "np.matmul(A.T,B.T)# (AB).T != A.T * B.T"
   ]
  },
  {
   "cell_type": "code",
   "execution_count": 182,
   "id": "bb32ce50",
   "metadata": {},
   "outputs": [
    {
     "data": {
      "text/plain": [
       "array([[-3.07105071, -0.5451484 , -2.25336946],\n",
       "       [-1.28618431, -0.90361481, -0.81645283],\n",
       "       [-2.82222164, -1.96184667, -0.9409865 ]])"
      ]
     },
     "execution_count": 182,
     "metadata": {},
     "output_type": "execute_result"
    }
   ],
   "source": [
    "np.matmul(B.T,A.T) # (AB).T = B.T * A.T"
   ]
  },
  {
   "cell_type": "code",
   "execution_count": 183,
   "id": "32b1935f",
   "metadata": {},
   "outputs": [
    {
     "data": {
      "text/plain": [
       "array([[-3.07105071, -0.5451484 , -2.25336946],\n",
       "       [-1.28618431, -0.90361481, -0.81645283],\n",
       "       [-2.82222164, -1.96184667, -0.9409865 ]])"
      ]
     },
     "execution_count": 183,
     "metadata": {},
     "output_type": "execute_result"
    }
   ],
   "source": [
    "np.transpose(np.matmul(A,B,C))"
   ]
  },
  {
   "cell_type": "code",
   "execution_count": 184,
   "id": "f0a505ce",
   "metadata": {},
   "outputs": [
    {
     "data": {
      "text/plain": [
       "array([[ 3.6510523 , -4.50987091,  6.96989249],\n",
       "       [ 1.61771851, -1.611831  ,  3.09993894],\n",
       "       [ 2.68620316, -2.90949201,  5.92429002]])"
      ]
     },
     "execution_count": 184,
     "metadata": {},
     "output_type": "execute_result"
    }
   ],
   "source": [
    "np.matmul(C.T,B.T,A.T)"
   ]
  },
  {
   "cell_type": "markdown",
   "id": "55f72b0e",
   "metadata": {},
   "source": [
    "<H4> Determinent of a Matrix"
   ]
  },
  {
   "cell_type": "code",
   "execution_count": 185,
   "id": "ce636f33",
   "metadata": {},
   "outputs": [
    {
     "data": {
      "text/plain": [
       "55.000000000000014"
      ]
     },
     "execution_count": 185,
     "metadata": {},
     "output_type": "execute_result"
    }
   ],
   "source": [
    "A = np.array([[1,-2,5],[7,-3,2],[-1,2,0]])\n",
    "np.linalg.det(A)"
   ]
  },
  {
   "cell_type": "code",
   "execution_count": 186,
   "id": "4d4b4216",
   "metadata": {},
   "outputs": [
    {
     "data": {
      "text/plain": [
       "0.0"
      ]
     },
     "execution_count": 186,
     "metadata": {},
     "output_type": "execute_result"
    }
   ],
   "source": [
    "A = np.array([[5,2,7],[-5,-2,-7],[10,4,14]]) # the value is 0 because 2 rows are linearly dependent\n",
    "np.linalg.det(A)"
   ]
  },
  {
   "cell_type": "markdown",
   "id": "2f1b0aa2",
   "metadata": {},
   "source": [
    "<H4>Matrix Inverse"
   ]
  },
  {
   "cell_type": "code",
   "execution_count": 187,
   "id": "a0186a31",
   "metadata": {},
   "outputs": [
    {
     "data": {
      "text/plain": [
       "array([[-0.07272727,  0.18181818,  0.2       ],\n",
       "       [-0.03636364,  0.09090909,  0.6       ],\n",
       "       [ 0.2       ,  0.        ,  0.2       ]])"
      ]
     },
     "execution_count": 187,
     "metadata": {},
     "output_type": "execute_result"
    }
   ],
   "source": [
    "A = np.array([[1,-2,5],[7,-3,2],[-1,2,0]])\n",
    "np.linalg.inv(A)"
   ]
  },
  {
   "cell_type": "code",
   "execution_count": 195,
   "id": "5c87b82e",
   "metadata": {},
   "outputs": [
    {
     "ename": "LinAlgError",
     "evalue": "Singular matrix",
     "output_type": "error",
     "traceback": [
      "\u001b[1;31m---------------------------------------------------------------------------\u001b[0m",
      "\u001b[1;31mLinAlgError\u001b[0m                               Traceback (most recent call last)",
      "\u001b[1;32m~\\AppData\\Local\\Temp/ipykernel_1176/2813165946.py\u001b[0m in \u001b[0;36m<module>\u001b[1;34m\u001b[0m\n\u001b[0;32m      1\u001b[0m \u001b[0mA\u001b[0m \u001b[1;33m=\u001b[0m \u001b[0mnp\u001b[0m\u001b[1;33m.\u001b[0m\u001b[0marray\u001b[0m\u001b[1;33m(\u001b[0m\u001b[1;33m[\u001b[0m\u001b[1;33m[\u001b[0m\u001b[1;36m5\u001b[0m\u001b[1;33m,\u001b[0m\u001b[1;36m2\u001b[0m\u001b[1;33m,\u001b[0m\u001b[1;36m7\u001b[0m\u001b[1;33m]\u001b[0m\u001b[1;33m,\u001b[0m\u001b[1;33m[\u001b[0m\u001b[1;33m-\u001b[0m\u001b[1;36m5\u001b[0m\u001b[1;33m,\u001b[0m\u001b[1;33m-\u001b[0m\u001b[1;36m2\u001b[0m\u001b[1;33m,\u001b[0m\u001b[1;33m-\u001b[0m\u001b[1;36m7\u001b[0m\u001b[1;33m]\u001b[0m\u001b[1;33m,\u001b[0m\u001b[1;33m[\u001b[0m\u001b[1;36m10\u001b[0m\u001b[1;33m,\u001b[0m\u001b[1;36m4\u001b[0m\u001b[1;33m,\u001b[0m\u001b[1;36m14\u001b[0m\u001b[1;33m]\u001b[0m\u001b[1;33m]\u001b[0m\u001b[1;33m)\u001b[0m\u001b[1;33m\u001b[0m\u001b[1;33m\u001b[0m\u001b[0m\n\u001b[1;32m----> 2\u001b[1;33m \u001b[0mnp\u001b[0m\u001b[1;33m.\u001b[0m\u001b[0mlinalg\u001b[0m\u001b[1;33m.\u001b[0m\u001b[0minv\u001b[0m\u001b[1;33m(\u001b[0m\u001b[0mA\u001b[0m\u001b[1;33m)\u001b[0m \u001b[1;31m# we get the error as the determinant is 0\u001b[0m\u001b[1;33m\u001b[0m\u001b[1;33m\u001b[0m\u001b[0m\n\u001b[0m",
      "\u001b[1;32m<__array_function__ internals>\u001b[0m in \u001b[0;36minv\u001b[1;34m(*args, **kwargs)\u001b[0m\n",
      "\u001b[1;32m~\\anaconda3\\lib\\site-packages\\numpy\\linalg\\linalg.py\u001b[0m in \u001b[0;36minv\u001b[1;34m(a)\u001b[0m\n\u001b[0;32m    543\u001b[0m     \u001b[0msignature\u001b[0m \u001b[1;33m=\u001b[0m \u001b[1;34m'D->D'\u001b[0m \u001b[1;32mif\u001b[0m \u001b[0misComplexType\u001b[0m\u001b[1;33m(\u001b[0m\u001b[0mt\u001b[0m\u001b[1;33m)\u001b[0m \u001b[1;32melse\u001b[0m \u001b[1;34m'd->d'\u001b[0m\u001b[1;33m\u001b[0m\u001b[1;33m\u001b[0m\u001b[0m\n\u001b[0;32m    544\u001b[0m     \u001b[0mextobj\u001b[0m \u001b[1;33m=\u001b[0m \u001b[0mget_linalg_error_extobj\u001b[0m\u001b[1;33m(\u001b[0m\u001b[0m_raise_linalgerror_singular\u001b[0m\u001b[1;33m)\u001b[0m\u001b[1;33m\u001b[0m\u001b[1;33m\u001b[0m\u001b[0m\n\u001b[1;32m--> 545\u001b[1;33m     \u001b[0mainv\u001b[0m \u001b[1;33m=\u001b[0m \u001b[0m_umath_linalg\u001b[0m\u001b[1;33m.\u001b[0m\u001b[0minv\u001b[0m\u001b[1;33m(\u001b[0m\u001b[0ma\u001b[0m\u001b[1;33m,\u001b[0m \u001b[0msignature\u001b[0m\u001b[1;33m=\u001b[0m\u001b[0msignature\u001b[0m\u001b[1;33m,\u001b[0m \u001b[0mextobj\u001b[0m\u001b[1;33m=\u001b[0m\u001b[0mextobj\u001b[0m\u001b[1;33m)\u001b[0m\u001b[1;33m\u001b[0m\u001b[1;33m\u001b[0m\u001b[0m\n\u001b[0m\u001b[0;32m    546\u001b[0m     \u001b[1;32mreturn\u001b[0m \u001b[0mwrap\u001b[0m\u001b[1;33m(\u001b[0m\u001b[0mainv\u001b[0m\u001b[1;33m.\u001b[0m\u001b[0mastype\u001b[0m\u001b[1;33m(\u001b[0m\u001b[0mresult_t\u001b[0m\u001b[1;33m,\u001b[0m \u001b[0mcopy\u001b[0m\u001b[1;33m=\u001b[0m\u001b[1;32mFalse\u001b[0m\u001b[1;33m)\u001b[0m\u001b[1;33m)\u001b[0m\u001b[1;33m\u001b[0m\u001b[1;33m\u001b[0m\u001b[0m\n\u001b[0;32m    547\u001b[0m \u001b[1;33m\u001b[0m\u001b[0m\n",
      "\u001b[1;32m~\\anaconda3\\lib\\site-packages\\numpy\\linalg\\linalg.py\u001b[0m in \u001b[0;36m_raise_linalgerror_singular\u001b[1;34m(err, flag)\u001b[0m\n\u001b[0;32m     86\u001b[0m \u001b[1;33m\u001b[0m\u001b[0m\n\u001b[0;32m     87\u001b[0m \u001b[1;32mdef\u001b[0m \u001b[0m_raise_linalgerror_singular\u001b[0m\u001b[1;33m(\u001b[0m\u001b[0merr\u001b[0m\u001b[1;33m,\u001b[0m \u001b[0mflag\u001b[0m\u001b[1;33m)\u001b[0m\u001b[1;33m:\u001b[0m\u001b[1;33m\u001b[0m\u001b[1;33m\u001b[0m\u001b[0m\n\u001b[1;32m---> 88\u001b[1;33m     \u001b[1;32mraise\u001b[0m \u001b[0mLinAlgError\u001b[0m\u001b[1;33m(\u001b[0m\u001b[1;34m\"Singular matrix\"\u001b[0m\u001b[1;33m)\u001b[0m\u001b[1;33m\u001b[0m\u001b[1;33m\u001b[0m\u001b[0m\n\u001b[0m\u001b[0;32m     89\u001b[0m \u001b[1;33m\u001b[0m\u001b[0m\n\u001b[0;32m     90\u001b[0m \u001b[1;32mdef\u001b[0m \u001b[0m_raise_linalgerror_nonposdef\u001b[0m\u001b[1;33m(\u001b[0m\u001b[0merr\u001b[0m\u001b[1;33m,\u001b[0m \u001b[0mflag\u001b[0m\u001b[1;33m)\u001b[0m\u001b[1;33m:\u001b[0m\u001b[1;33m\u001b[0m\u001b[1;33m\u001b[0m\u001b[0m\n",
      "\u001b[1;31mLinAlgError\u001b[0m: Singular matrix"
     ]
    }
   ],
   "source": [
    "A = np.array([[5,2,7],[-5,-2,-7],[10,4,14]])\n",
    "np.linalg.inv(A) # we get the error as the determinant is 0"
   ]
  },
  {
   "cell_type": "markdown",
   "id": "86b8b9f8",
   "metadata": {},
   "source": [
    "<H4> Perturbation"
   ]
  },
  {
   "cell_type": "code",
   "execution_count": 200,
   "id": "ca23d5e4",
   "metadata": {},
   "outputs": [],
   "source": [
    "delta = 0.02\n",
    "A = A + delta"
   ]
  },
  {
   "cell_type": "code",
   "execution_count": 201,
   "id": "4f54987f",
   "metadata": {},
   "outputs": [
    {
     "data": {
      "text/plain": [
       "-1.176337036991657e-17"
      ]
     },
     "execution_count": 201,
     "metadata": {},
     "output_type": "execute_result"
    }
   ],
   "source": [
    "np.linalg.det(A)"
   ]
  },
  {
   "cell_type": "code",
   "execution_count": 202,
   "id": "e6db4afd",
   "metadata": {},
   "outputs": [
    {
     "data": {
      "text/plain": [
       "array([[-2.80531846e+16,  9.35106152e+15,  1.87021230e+16],\n",
       "       [ 1.12212738e+16, -3.74042461e+15, -7.48084922e+15],\n",
       "       [ 1.68319107e+16, -5.61063691e+15, -1.12212738e+16]])"
      ]
     },
     "execution_count": 202,
     "metadata": {},
     "output_type": "execute_result"
    }
   ],
   "source": [
    "np.linalg.inv(A)"
   ]
  },
  {
   "cell_type": "markdown",
   "id": "80f3b6e5",
   "metadata": {},
   "source": [
    "<H4>Linear Equation Solving"
   ]
  },
  {
   "cell_type": "code",
   "execution_count": 203,
   "id": "0eca23be",
   "metadata": {},
   "outputs": [],
   "source": [
    "## x-2y+5z = 2\n",
    "##7x-3y+2z = 5\n",
    "### 2y-x = 3\n",
    "\n",
    "A = np.array([[1,-2,5],[7,-3,2],[-1,2,0]])\n",
    "b = np.array([[2],[5],[3]])"
   ]
  },
  {
   "cell_type": "code",
   "execution_count": 204,
   "id": "b3f06350",
   "metadata": {},
   "outputs": [
    {
     "data": {
      "text/plain": [
       "array([[1.36363636],\n",
       "       [2.18181818],\n",
       "       [1.        ]])"
      ]
     },
     "execution_count": 204,
     "metadata": {},
     "output_type": "execute_result"
    }
   ],
   "source": [
    "x = np.matmul(np.linalg.inv(A),b)\n",
    "x"
   ]
  },
  {
   "cell_type": "code",
   "execution_count": 205,
   "id": "e79d525b",
   "metadata": {},
   "outputs": [
    {
     "data": {
      "text/plain": [
       "array([[6.66133815e-16],\n",
       "       [1.00000000e+00],\n",
       "       [2.00000000e+00]])"
      ]
     },
     "execution_count": 205,
     "metadata": {},
     "output_type": "execute_result"
    }
   ],
   "source": [
    "## 5x+3y +4z = 11\n",
    "## 2x+y+z = 3 \n",
    "## 4x+7y +5z=17\n",
    "A = np.array([[5,3,4],[2,1,1],[4,7,5]])\n",
    "b = np.array([[11],[3],[17]])\n",
    "x = np.matmul(np.linalg.inv(A),b)\n",
    "x\n",
    "\n"
   ]
  },
  {
   "cell_type": "code",
   "execution_count": 207,
   "id": "1d002ddf",
   "metadata": {},
   "outputs": [
    {
     "data": {
      "text/plain": [
       "array([[-0.27272727],\n",
       "       [-0.18181818],\n",
       "       [ 1.09090909],\n",
       "       [-0.18181818]])"
      ]
     },
     "execution_count": 207,
     "metadata": {},
     "output_type": "execute_result"
    }
   ],
   "source": [
    "##a + 3b + 2c + 2d = 1\n",
    "##2a + b + c + 2d = 0\n",
    "##3a + b + 2c + d = 1\n",
    "##2a + c + 3d = 0\n",
    "A = np.array([[1,3,2,2],[2,1,1,2],[3,1,2,1],[2,0,1,3]])\n",
    "b = np.array([[1],[0],[1],[0]])\n",
    "x = np.matmul(np.linalg.inv(A),b)\n",
    "x"
   ]
  },
  {
   "cell_type": "code",
   "execution_count": null,
   "id": "6d986669",
   "metadata": {},
   "outputs": [],
   "source": []
  }
 ],
 "metadata": {
  "kernelspec": {
   "display_name": "Python 3 (ipykernel)",
   "language": "python",
   "name": "python3"
  },
  "language_info": {
   "codemirror_mode": {
    "name": "ipython",
    "version": 3
   },
   "file_extension": ".py",
   "mimetype": "text/x-python",
   "name": "python",
   "nbconvert_exporter": "python",
   "pygments_lexer": "ipython3",
   "version": "3.10.9"
  }
 },
 "nbformat": 4,
 "nbformat_minor": 5
}
